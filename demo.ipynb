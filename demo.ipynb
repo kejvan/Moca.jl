{
 "cells": [
  {
   "cell_type": "markdown",
   "metadata": {},
   "source": [
    "# Moca.jl tutorial\n",
    "\n",
    "A hands-on guide to the Moca.jl Monte Carlo simulation engine.\n",
    "\n",
    "## Overview\n",
    "\n",
    "Moca.jl provides:\n",
    "\n",
    "- Thread-safe random number generation\n",
    "- Stochastic process implementations (Wiener, GBM)\n",
    "- Efficient path generation (streaming and stored modes)\n",
    "- Online statistics with Welford's algorithm\n"
   ]
  },
  {
   "cell_type": "code",
   "execution_count": 1,
   "metadata": {},
   "outputs": [],
   "source": [
    "# Load the module\n",
    "include(\"./src/Moca.jl\")\n",
    "using Main.Moca"
   ]
  },
  {
   "cell_type": "markdown",
   "metadata": {},
   "source": [
    "## Random number generation\n",
    "\n",
    "Thread-safe RNG with independent stream splitting for parallel execution.\n"
   ]
  },
  {
   "cell_type": "code",
   "execution_count": 2,
   "metadata": {},
   "outputs": [
    {
     "name": "stdout",
     "output_type": "stream",
     "text": [
      "Normal sample: 2.420564044098074\n",
      "Uniform sample: -0.8710294978033466\n"
     ]
    }
   ],
   "source": [
    "# Create a seeded RNG\n",
    "rng = StandardRNG(42)\n",
    "\n",
    "# Sample from distributions\n",
    "x = rand_normal(rng; mean=0.0, std_dev=2.0)\n",
    "y = rand_uniform(rng; left=-1.0, right=1.0)\n",
    "\n",
    "println(\"Normal sample: $x\")\n",
    "println(\"Uniform sample: $y\")"
   ]
  },
  {
   "cell_type": "code",
   "execution_count": 3,
   "metadata": {},
   "outputs": [
    {
     "name": "stdout",
     "output_type": "stream",
     "text": [
      "Created 3 independent RNG streams\n",
      "Stream 1: -0.3039639640846837\n",
      "Stream 2: 0.2584242109761766\n",
      "Stream 3: -2.4164144467210846\n"
     ]
    }
   ],
   "source": [
    "# Split into independent streams\n",
    "rng_streams = split_rng(rng, 3)\n",
    "println(\"Created $(length(rng_streams)) independent RNG streams\")\n",
    "\n",
    "for (i, stream) in enumerate(rng_streams)\n",
    "    val = rand_normal(stream)\n",
    "    println(\"Stream $i: $val\")\n",
    "end"
   ]
  },
  {
   "cell_type": "markdown",
   "metadata": {},
   "source": [
    "## Stochastic processes\n",
    "\n",
    "### Wiener process\n",
    "\n",
    "Brownian motion with drift: `dX = drift*dt + volatility*dW`\n"
   ]
  },
  {
   "cell_type": "code",
   "execution_count": 4,
   "metadata": {},
   "outputs": [
    {
     "name": "stdout",
     "output_type": "stream",
     "text": [
      "Wiener process: 0.0 -> 0.03046145851249486\n"
     ]
    }
   ],
   "source": [
    "# Define and step\n",
    "wiener = WienerProcess(drift=0.1, volatility=0.2)\n",
    "rng = StandardRNG(123)\n",
    "\n",
    "x0 = 0.0\n",
    "x1 = Moca.step(wiener, x0, 0.1, rng)\n",
    "println(\"Wiener process: $x0 -> $x1\")"
   ]
  },
  {
   "cell_type": "markdown",
   "metadata": {},
   "source": [
    "### Geometric Brownian motion\n",
    "\n",
    "`dS = drift*S*dt + volatility*S*dW`\n"
   ]
  },
  {
   "cell_type": "code",
   "execution_count": 5,
   "metadata": {},
   "outputs": [
    {
     "name": "stdout",
     "output_type": "stream",
     "text": [
      "GBM: 100.0 -> 98.88742512449822\n"
     ]
    }
   ],
   "source": [
    "# Define and step\n",
    "gbm = GeometricBrownianMotion(drift=0.05, volatility=0.3)\n",
    "rng = StandardRNG(456)\n",
    "\n",
    "s0 = 100.0\n",
    "s1 = Moca.step(gbm, s0, 0.1, rng)\n",
    "println(\"GBM: $s0 -> $s1\")"
   ]
  },
  {
   "cell_type": "markdown",
   "metadata": {},
   "source": [
    "## Path generation\n",
    "\n",
    "Two modes:\n",
    "\n",
    "- **Stored** (`store_path=true`): Returns full path array\n",
    "- **Streaming** (`store_path=false`): Returns only terminal value (memory efficient)\n"
   ]
  },
  {
   "cell_type": "code",
   "execution_count": 6,
   "metadata": {},
   "outputs": [
    {
     "name": "stdout",
     "output_type": "stream",
     "text": [
      "Generated path with 101 points\n",
      "Initial: 0.0, Terminal: -0.0790234636576309\n"
     ]
    }
   ],
   "source": [
    "# Stored mode\n",
    "config_stored = PathConfig(100, 0.01, true)\n",
    "rng = StandardRNG(789)\n",
    "path = generate_path(wiener, 0.0, config_stored, rng)\n",
    "\n",
    "println(\"Generated path with $(length(path)) points\")\n",
    "println(\"Initial: $(path[1]), Terminal: $(path[end])\")"
   ]
  },
  {
   "cell_type": "code",
   "execution_count": 7,
   "metadata": {},
   "outputs": [
    {
     "name": "stdout",
     "output_type": "stream",
     "text": [
      "Terminal value: 0.3518924818681834\n"
     ]
    }
   ],
   "source": [
    "# Streaming mode\n",
    "config_streaming = PathConfig(100, 0.01, false)\n",
    "rng = StandardRNG(202)\n",
    "terminal = generate_path(wiener, 0.0, config_streaming, rng)\n",
    "\n",
    "println(\"Terminal value: $terminal\")"
   ]
  },
  {
   "cell_type": "markdown",
   "metadata": {},
   "source": [
    "## Online statistics\n",
    "\n",
    "Compute statistics incrementally using Welford's algorithm.\n"
   ]
  },
  {
   "cell_type": "code",
   "execution_count": 8,
   "metadata": {},
   "outputs": [
    {
     "name": "stdout",
     "output_type": "stream",
     "text": [
      "Mean: 3.0\n",
      "Std dev: 1.5811388300841898\n",
      "95% confidence interval: (1.6140961756503196, 4.385903824349681)\n"
     ]
    }
   ],
   "source": [
    "# Simple example\n",
    "stats = OnlineStatistics()\n",
    "for val in [1.0, 2.0, 3.0, 4.0, 5.0]\n",
    "    update!(stats, val)\n",
    "end\n",
    "\n",
    "result = Moca.finalize(stats)\n",
    "println(\"Mean: $(result.mean)\")\n",
    "println(\"Std dev: $(result.std_dev)\")\n",
    "println(\"95% confidence interval: $(result.confidence_interval)\")"
   ]
  },
  {
   "cell_type": "markdown",
   "metadata": {},
   "source": [
    "### Recovering distribution parameters\n"
   ]
  },
  {
   "cell_type": "code",
   "execution_count": 9,
   "metadata": {},
   "outputs": [
    {
     "name": "stdout",
     "output_type": "stream",
     "text": [
      "True mean: 10.0, Estimated: 10.001229325877969\n",
      "True std: 2.0, Estimated: 1.9938835555097933\n"
     ]
    }
   ],
   "source": [
    "# Sample from N(10, 2^2) and verify recovery\n",
    "stats_mc = OnlineStatistics()\n",
    "rng = StandardRNG(303)\n",
    "\n",
    "for i in 1:10_000\n",
    "    sample = rand_normal(rng; mean=10.0, std_dev=2.0)\n",
    "    update!(stats_mc, sample)\n",
    "end\n",
    "\n",
    "result = Moca.finalize(stats_mc)\n",
    "println(\"True mean: 10.0, Estimated: $(result.mean)\")\n",
    "println(\"True std: 2.0, Estimated: $(result.std_dev)\")"
   ]
  },
  {
   "cell_type": "markdown",
   "metadata": {},
   "source": [
    "### Aggregating from multiple workers\n"
   ]
  },
  {
   "cell_type": "code",
   "execution_count": 10,
   "metadata": {},
   "outputs": [
    {
     "name": "stdout",
     "output_type": "stream",
     "text": [
      "Total samples: 450\n",
      "Mean: 5.104965453305758 (expected ~5.0)\n",
      "Std: 0.9719626521778952 (expected ~1.0)\n"
     ]
    }
   ],
   "source": [
    "# Simulate 3 workers\n",
    "worker_stats = OnlineStatistics[]\n",
    "\n",
    "for (i, n_samples) in enumerate([100, 150, 200])\n",
    "    stats = OnlineStatistics()\n",
    "    rng = StandardRNG(400 + i)\n",
    "    for _ in 1:n_samples\n",
    "        update!(stats, rand_normal(rng; mean=5.0, std_dev=1.0))\n",
    "    end\n",
    "    push!(worker_stats, stats)\n",
    "end\n",
    "\n",
    "# Combine using Chan's algorithm\n",
    "combined = aggregate(worker_stats)\n",
    "result = Moca.finalize(combined)\n",
    "\n",
    "println(\"Total samples: $(result.n_samples)\")\n",
    "println(\"Mean: $(result.mean) (expected ~5.0)\")\n",
    "println(\"Std: $(result.std_dev) (expected ~1.0)\")"
   ]
  },
  {
   "cell_type": "markdown",
   "metadata": {},
   "source": [
    "## Monte Carlo simulation\n",
    "\n",
    "The `simulate()` function orchestrates the full workflow.\n"
   ]
  },
  {
   "cell_type": "markdown",
   "metadata": {},
   "source": [
    "### Estimating terminal values\n"
   ]
  },
  {
   "cell_type": "code",
   "execution_count": 11,
   "metadata": {},
   "outputs": [
    {
     "name": "stdout",
     "output_type": "stream",
     "text": [
      "Theoretical: 0.1\n",
      "Estimated: 0.1013682300489188\n",
      "95% confidence interval: (0.09741478296830754, 0.10532167712953007)\n"
     ]
    }
   ],
   "source": [
    "# Estimate E[X_T] for Wiener process\n",
    "# Theoretical: E[X_T] = initial + drift*T = 0 + 0.1*1.0 = 0.1\n",
    "wiener = WienerProcess(drift=0.1, volatility=0.2)\n",
    "config = PathConfig(100, 0.01, false)  # T = 1.0\n",
    "\n",
    "result = simulate(\n",
    "    wiener,\n",
    "    x -> x,  # Identity functional\n",
    "    10_000;\n",
    "    initial_state=0.0,\n",
    "    config=config,\n",
    "    rng_seed=42\n",
    ")\n",
    "\n",
    "println(\"Theoretical: 0.1\")\n",
    "println(\"Estimated: $(result.mean)\")\n",
    "println(\"95% confidence interval: $(result.confidence_interval)\")"
   ]
  },
  {
   "cell_type": "markdown",
   "metadata": {},
   "source": [
    "### Path-dependent functionals\n"
   ]
  },
  {
   "cell_type": "code",
   "execution_count": 12,
   "metadata": {},
   "outputs": [
    {
     "name": "stdout",
     "output_type": "stream",
     "text": [
      "Estimated E[max(S)]: 127.6700481905793\n",
      "Std error: 0.26066947025399734\n",
      "95% confidence interval: (127.15914541701233, 128.18095096414626)\n"
     ]
    }
   ],
   "source": [
    "# Estimate E[max(S)] for GBM\n",
    "gbm = GeometricBrownianMotion(drift=0.05, volatility=0.3)\n",
    "config = PathConfig(100, 0.01, true)  # Need full path\n",
    "\n",
    "result = simulate(\n",
    "    gbm,\n",
    "    path -> maximum(path),\n",
    "    10_000;\n",
    "    initial_state=100.0,\n",
    "    config=config,\n",
    "    rng_seed=123\n",
    ")\n",
    "\n",
    "println(\"Estimated E[max(S)]: $(result.mean)\")\n",
    "println(\"Std error: $(result.std_err)\")\n",
    "println(\"95% confidence interval: $(result.confidence_interval)\")"
   ]
  },
  {
   "cell_type": "markdown",
   "metadata": {},
   "source": [
    "### Custom functionals\n"
   ]
  },
  {
   "cell_type": "code",
   "execution_count": 13,
   "metadata": {},
   "outputs": [
    {
     "name": "stdout",
     "output_type": "stream",
     "text": [
      "Call option value: 15.07549767882585\n",
      "95% confidence interval: (14.868037382798224, 15.282957974853474)\n"
     ]
    }
   ],
   "source": [
    "# Call option: E[max(S_T - K, 0)]\n",
    "gbm = GeometricBrownianMotion(drift=0.05, volatility=0.3)\n",
    "config = PathConfig(252, 1 / 252, false)  # 1 year, daily steps\n",
    "strike = 100.0\n",
    "\n",
    "result = simulate(\n",
    "    gbm,\n",
    "    s -> max(s - strike, 0.0),  # Payoff function\n",
    "    50_000;\n",
    "    initial_state=100.0,\n",
    "    config=config,\n",
    "    rng_seed=456\n",
    ")\n",
    "\n",
    "println(\"Call option value: $(result.mean)\")\n",
    "println(\"95% confidence interval: $(result.confidence_interval)\")"
   ]
  },
  {
   "cell_type": "markdown",
   "metadata": {},
   "source": [
    "## Parallel execution\n",
    "\n",
    "Multi-threaded execution using `parallel=:threads` for faster simulations.\n"
   ]
  },
  {
   "cell_type": "code",
   "execution_count": 14,
   "metadata": {},
   "outputs": [
    {
     "name": "stdout",
     "output_type": "stream",
     "text": [
      "Available threads: 8\n"
     ]
    }
   ],
   "source": [
    "# Check available threads\n",
    "println(\"Available threads: $(Threads.nthreads())\")"
   ]
  },
  {
   "cell_type": "markdown",
   "metadata": {},
   "source": [
    "### Scalability across problem sizes\n",
    "\n",
    "Threading overhead is amortized over larger problems, leading to better speedups.\n"
   ]
  },
  {
   "cell_type": "code",
   "execution_count": 15,
   "metadata": {},
   "outputs": [
    {
     "name": "stdout",
     "output_type": "stream",
     "text": [
      "\n",
      "=== Testing with 10000 paths ===\n",
      "Serial: 0.469 s, Threads: 0.162 s, Speedup: 2.90x\n",
      "\n",
      "=== Testing with 50000 paths ===\n",
      "Serial: 1.806 s, Threads: 0.051 s, Speedup: 35.62x\n",
      "\n",
      "=== Testing with 100000 paths ===\n",
      "Serial: 2.938 s, Threads: 0.177 s, Speedup: 16.59x\n",
      "\n",
      "=== Testing with 500000 paths ===\n",
      "Serial: 20.253 s, Threads: 1.533 s, Speedup: 13.21x\n"
     ]
    }
   ],
   "source": [
    "# Test with different problem sizes\n",
    "using Printf\n",
    "\n",
    "for n_paths in [10_000, 50_000, 100_000, 500_000]\n",
    "    println(\"\\n=== Testing with $n_paths paths ===\")\n",
    "\n",
    "    process = WienerProcess(drift=0.1, volatility=0.2)\n",
    "    config = PathConfig(100, 0.01, false)\n",
    "\n",
    "    # Serial\n",
    "    t_serial = @elapsed simulate(\n",
    "        process, x -> x, n_paths;\n",
    "        initial_state=1.0, config=config, rng_seed=42, parallel=:serial\n",
    "    )\n",
    "\n",
    "    # Threaded\n",
    "    t_threads = @elapsed simulate(\n",
    "        process, x -> x, n_paths;\n",
    "        initial_state=1.0, config=config, rng_seed=42, parallel=:threads\n",
    "    )\n",
    "\n",
    "    speedup = t_serial / t_threads\n",
    "    @printf(\"Serial: %.3f s, Threads: %.3f s, Speedup: %.2fx\\n\", t_serial, t_threads, speedup)\n",
    "end"
   ]
  },
  {
   "cell_type": "markdown",
   "metadata": {},
   "source": [
    "### Performance with path-dependent functionals\n"
   ]
  },
  {
   "cell_type": "code",
   "execution_count": 16,
   "metadata": {},
   "outputs": [
    {
     "name": "stdout",
     "output_type": "stream",
     "text": [
      "Serial execution (with path storage):\n",
      "  7.043088 seconds (14.27 M allocations: 1.544 GiB, 70.42% gc time, 1.99% compilation time)\n",
      "\n",
      "Threaded execution (with path storage):\n",
      "  0.344200 seconds (13.10 M allocations: 590.854 MiB, 11.17% gc time, 140.30% compilation time)\n",
      "\n",
      "--- Results ---\n",
      "Serial:  128.38256660533156 ± 0.1157413892396172\n",
      "Threads: 128.31818207663176 ± 0.11601398174615529\n"
     ]
    }
   ],
   "source": [
    "# More expensive computation: max over stored paths\n",
    "gbm = GeometricBrownianMotion(drift=0.05, volatility=0.3)\n",
    "config_stored = PathConfig(252, 1 / 252, true)\n",
    "n_paths = 50_000\n",
    "\n",
    "println(\"Serial execution (with path storage):\")\n",
    "@time result_serial = simulate(\n",
    "    gbm,\n",
    "    path -> maximum(path),\n",
    "    n_paths;\n",
    "    initial_state=100.0,\n",
    "    config=config_stored,\n",
    "    rng_seed=789,\n",
    "    parallel=:serial\n",
    ")\n",
    "\n",
    "println(\"\\nThreaded execution (with path storage):\")\n",
    "@time result_threads = simulate(\n",
    "    gbm,\n",
    "    path -> maximum(path),\n",
    "    n_paths;\n",
    "    initial_state=100.0,\n",
    "    config=config_stored,\n",
    "    rng_seed=789,\n",
    "    parallel=:threads\n",
    ")\n",
    "\n",
    "println(\"\\n--- Results ---\")\n",
    "println(\"Serial:  $(result_serial.mean) ± $(result_serial.std_err)\")\n",
    "println(\"Threads: $(result_threads.mean) ± $(result_threads.std_err)\")"
   ]
  },
  {
   "cell_type": "markdown",
   "metadata": {},
   "source": [
    "## Summary\n",
    "\n",
    "1. Thread-safe RNG with stream splitting\n",
    "2. Wiener and GBM process implementations\n",
    "3. Streaming and stored path generation\n",
    "4. Online statistics with Welford's algorithm\n",
    "5. Statistics aggregation with Chan's algorithm\n",
    "6. Full Monte Carlo simulation with custom functionals\n",
    "7. Multi-threaded execution for performance scaling\n"
   ]
  }
 ],
 "metadata": {
  "kernelspec": {
   "display_name": "Julia 1.12.0",
   "language": "julia",
   "name": "julia-1.12"
  },
  "language_info": {
   "file_extension": ".jl",
   "mimetype": "application/julia",
   "name": "julia",
   "version": "1.12.0"
  }
 },
 "nbformat": 4,
 "nbformat_minor": 4
}
